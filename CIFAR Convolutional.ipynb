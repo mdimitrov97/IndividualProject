{
 "cells": [
  {
   "cell_type": "code",
   "execution_count": 1,
   "metadata": {},
   "outputs": [],
   "source": [
    "import torch\n",
    "import torch.nn as nn\n",
    "import torch.optim as optim\n",
    "from torch.autograd import Variable\n",
    "from torchvision import datasets, transforms\n",
    "import datetime\n",
    "import numpy as np\n",
    "import matplotlib.pyplot as plt\n",
    "import copy\n",
    "import torch.nn.functional as F\n",
    "from statistics import mean"
   ]
  },
  {
   "cell_type": "code",
   "execution_count": 2,
   "metadata": {},
   "outputs": [],
   "source": [
    "use_cuda = torch.cuda.is_available()\n",
    "torch.manual_seed(1)\n",
    "device = torch.device(\"cuda\" if use_cuda else \"cpu\")\n",
    "epochs = 10\n",
    "batch_size = 32\n",
    "lr = 0.01\n",
    "kwargs = {'num_workers': 1, 'pin_memory': True} if use_cuda else {}\n",
    "classes = ('plane', 'car', 'bird', 'cat','deer', 'dog', 'frog', 'horse', 'ship', 'truck')"
   ]
  },
  {
   "cell_type": "code",
   "execution_count": 3,
   "metadata": {},
   "outputs": [
    {
     "name": "stdout",
     "output_type": "stream",
     "text": [
      "Files already downloaded and verified\n",
      "Files already downloaded and verified\n"
     ]
    }
   ],
   "source": [
    "transform = transforms.Compose(\n",
    "    [\n",
    "        transforms.ToTensor(),\n",
    "    ])\n",
    "train_val_dataset = datasets.CIFAR10('.', download=True, train=True, transform=transform)\n",
    "test_dataset = datasets.CIFAR10('.', download=True, train=False, transform=transform)\n",
    "ratio = 0.2\n",
    "train_examples = int((1.0-ratio)*len(train_val_dataset))\n",
    "val_examples = int(ratio*len(train_val_dataset))\n",
    "train_dataset, val_dataset = torch.utils.data.dataset.random_split(train_val_dataset,[train_examples,val_examples])\n",
    "trainloader = torch.utils.data.DataLoader(train_dataset, batch_size=batch_size, shuffle=True, num_workers=2)\n",
    "valloader = torch.utils.data.DataLoader(val_dataset,batch_size=batch_size,shuffle=False,num_workers=2)\n",
    "testloader = torch.utils.data.DataLoader(test_dataset, batch_size=batch_size, shuffle=False, num_workers=2)"
   ]
  },
  {
   "cell_type": "code",
   "execution_count": 4,
   "metadata": {},
   "outputs": [],
   "source": [
    "def plot_graph(training_losses,val_losses,epochs):\n",
    "    plt.figure()\n",
    "    plt.plot(range(epochs),training_losses,label=\"Training loss\")\n",
    "    plt.plot(range(epochs),val_losses,label=\"Validation loss\")\n",
    "    plt.legend()\n",
    "    plt.title('Loss per epoch')\n",
    "    plt.xlabel('Epoch')\n",
    "    plt.ylabel('Loss')"
   ]
  },
  {
   "cell_type": "code",
   "execution_count": 5,
   "metadata": {},
   "outputs": [],
   "source": [
    "class Classifier(nn.Module):\n",
    "    def __init__(self):\n",
    "        super(Classifier, self).__init__()\n",
    "        self.encoder = nn.Sequential(\n",
    "            # 3 input channels(RGB), 12 output channels, 3x3 square convolution\n",
    "            nn.Conv2d(in_channels = 3, out_channels = 12, kernel_size = 3, stride=1, padding=1), # Output size : [batch_size, 12, 32, 32]\n",
    "            nn.ReLU(),\n",
    "            nn.Conv2d(in_channels = 12, out_channels = 24, kernel_size = 3, stride=1, padding=1), # Output size : [batch_size, 24, 32, 32]\n",
    "            nn.ReLU(),\n",
    "            nn.Conv2d(in_channels = 24, out_channels = 48, kernel_size = 3, stride=2, padding=1), # Output size : [batch_size, 48, 16, 16]\n",
    "            \n",
    "        )\n",
    "        self.fc = nn.Sequential(\n",
    "            nn.Linear(12288,1200),\n",
    "            nn.ReLU(),\n",
    "            nn.Linear(1200,500),\n",
    "            nn.ReLU(),\n",
    "            nn.Linear(500,10),\n",
    "            nn.LogSoftmax()\n",
    "        )\n",
    "\n",
    "    def forward(self, x):\n",
    "        x = self.encoder(x)\n",
    "        #x = x.view(-1, 320)\n",
    "        x = x.view(x.size(0),-1)\n",
    "        #x = F.dropout(x, training=self.training)\n",
    "        x = self.fc(x)\n",
    "        return x"
   ]
  },
  {
   "cell_type": "code",
   "execution_count": 6,
   "metadata": {},
   "outputs": [],
   "source": [
    "def train(model,device,optimizer,epoch,trainloader,criterion):\n",
    "    model.train()\n",
    "    epoch_loss = 0\n",
    "    for index,(images,labels) in enumerate(trainloader):\n",
    "        images, labels = images.to(device), labels.to(device)\n",
    "        optimizer.zero_grad()\n",
    "        output = model(images)\n",
    "        loss = criterion(output,labels)\n",
    "        loss.backward()\n",
    "        epoch_loss += loss.item()\n",
    "        optimizer.step()\n",
    "        #if index % 10 == 0:\n",
    "            #print('Train Epoch: {} [{}/{} ({:.0f}%)]\\tLoss: {:.6f}'.format(\n",
    "                #epoch, index * len(images), len(trainloader.dataset),\n",
    "                #100. * index / len(trainloader), loss.item()))\n",
    "    epoch_loss /= len(trainloader)\n",
    "    print(\"Average training loss:\",epoch_loss)\n",
    "    return epoch_loss\n",
    "    \n",
    "def test(model,device,testloader,criterion):\n",
    "    model.eval()\n",
    "    epoch_loss = 0\n",
    "    correct = 0\n",
    "    with torch.no_grad():\n",
    "        for images, labels in testloader:\n",
    "            images, labels = images.to(device), labels.to(device)\n",
    "            output = model(images)\n",
    "            loss = criterion(output,labels)\n",
    "            epoch_loss += loss.item()\n",
    "            pred = output.max(1, keepdim=True)[1] # get the index of the max log-probability\n",
    "            correct += pred.eq(labels.view_as(pred)).sum().item()\n",
    "    epoch_loss /= len(testloader)\n",
    "    print('Average loss: {:.4f}, Accuracy: {}/{} ({:.0f}%)'.format(\n",
    "        epoch_loss, correct, len(testloader.dataset),\n",
    "        100. * correct / len(testloader.dataset)))\n",
    "    return epoch_loss\n",
    "\n"
   ]
  },
  {
   "cell_type": "code",
   "execution_count": 7,
   "metadata": {
    "scrolled": true
   },
   "outputs": [
    {
     "name": "stderr",
     "output_type": "stream",
     "text": [
      "C:\\Users\\Martin Dimitrov\\Anaconda3\\lib\\site-packages\\torch\\nn\\modules\\container.py:92: UserWarning: Implicit dimension choice for log_softmax has been deprecated. Change the call to include dim=X as an argument.\n",
      "  input = module(input)\n"
     ]
    },
    {
     "name": "stdout",
     "output_type": "stream",
     "text": [
      "Average training loss: 1.849683449459076\n",
      "Average loss: 1.5566, Accuracy: 4433/10000 (44%)\n",
      "Average training loss: 1.421746862077713\n",
      "Average loss: 1.2980, Accuracy: 5405/10000 (54%)\n",
      "Average training loss: 1.1745632361888885\n",
      "Average loss: 1.1551, Accuracy: 5933/10000 (59%)\n",
      "Average training loss: 0.9568488050937652\n",
      "Average loss: 1.0721, Accuracy: 6252/10000 (63%)\n",
      "Average training loss: 0.7402486313581467\n",
      "Average loss: 1.1310, Accuracy: 6230/10000 (62%)\n",
      "Average training loss: 0.5036747692108154\n",
      "Average loss: 1.2701, Accuracy: 6144/10000 (61%)\n",
      "Average training loss: 0.35156476864814756\n",
      "Average loss: 1.5379, Accuracy: 6150/10000 (62%)\n",
      "Average training loss: 0.2500807348653674\n",
      "Average loss: 1.6284, Accuracy: 6207/10000 (62%)\n",
      "Average training loss: 0.1997713259115815\n",
      "Average loss: 1.8801, Accuracy: 6142/10000 (61%)\n",
      "Average training loss: 0.16453454619981348\n",
      "Average loss: 2.0673, Accuracy: 6095/10000 (61%)\n",
      "Final performance\n",
      "Average loss: 2.0682, Accuracy: 6103/10000 (61%)\n"
     ]
    },
    {
     "data": {
      "text/plain": [
       "2.068198137199536"
      ]
     },
     "execution_count": 7,
     "metadata": {},
     "output_type": "execute_result"
    },
    {
     "data": {
      "image/png": "[encoded data removed]",
      "text/plain": [
       "<Figure size 432x288 with 1 Axes>"
      ]
     },
     "metadata": {
      "needs_background": "light"
     },
     "output_type": "display_data"
    }
   ],
   "source": [
    "model = Classifier().to(device)\n",
    "optimizer = optim.SGD(model.parameters(), lr=0.01, momentum=0.9)\n",
    "criterion = nn.CrossEntropyLoss()\n",
    "training_losses = []\n",
    "val_losses = []\n",
    "for epoch in range(epochs):\n",
    "    train_loss = train(model,device,optimizer,epoch,trainloader,criterion)\n",
    "    val_loss = test(model,device,valloader,criterion)\n",
    "    training_losses.append(train_loss)\n",
    "    val_losses.append(val_loss)\n",
    "print(\"Final performance\")\n",
    "plot_graph(training_losses,val_losses,epochs)\n",
    "test(model,device,testloader,criterion)"
   ]
  },
  {
   "cell_type": "code",
   "execution_count": 8,
   "metadata": {},
   "outputs": [],
   "source": [
    "class AutoEncoder(nn.Module):\n",
    "    def __init__(self):\n",
    "        super(AutoEncoder, self).__init__()\n",
    "        \n",
    "        # batch_size : 64\n",
    "        # Input size to the Autoencoder : [batch_size, 3, 32, 32]\n",
    "        # Output size from the Autoencoder : [batch_size, 3, 32, 32]\n",
    "        self.encoder = nn.Sequential(\n",
    "            # 3 input channels(RGB), 12 output channels, 3x3 square convolution\n",
    "            nn.Conv2d(in_channels = 3, out_channels = 12, kernel_size = 3, stride=1, padding=1), # Output size : [batch_size, 12, 32, 32]\n",
    "            nn.ReLU(),\n",
    "            nn.Conv2d(in_channels = 12, out_channels = 24, kernel_size = 3, stride=1, padding=1), # Output size : [batch_size, 24, 32, 32]\n",
    "            nn.ReLU(),\n",
    "            nn.Conv2d(in_channels = 24, out_channels = 48, kernel_size = 3, stride=2, padding=1), # Output size : [batch_size, 48, 16, 16]\n",
    "            #nn.ReLU(),\n",
    "        )\n",
    "        self.decoder = nn.Sequential(\n",
    "            # For Upscaling :\n",
    "            # 2x2 kernels can only learn nearest pixel upscaling.\n",
    "            # 3x3 kernels can do bilinear but will require asymmetric padding.\n",
    "            # But 4x4 can do bilinear again without asymmetrical padding.\n",
    "            nn.ConvTranspose2d(48, 24, 4, stride=2, padding=1), # Output size: [batch_size, 24, 32, 32]\n",
    "            nn.ReLU(),  #TODO : try with LeakyReLU while decoding\n",
    "            nn.ConvTranspose2d(24, 12, 3, stride=1, padding=1), # Output size: [batch_size, 12, 32, 32]\n",
    "            nn.ReLU(),\n",
    "            nn.ConvTranspose2d(12, 3, 3, stride=1, padding=1), # Output size: [batch_size, 3, 32, 32]\n",
    "            nn.Sigmoid()\n",
    "        )\n",
    "\n",
    "    def forward(self, x):\n",
    "        encoded = self.encoder(x)\n",
    "        decoded = self.decoder(encoded)\n",
    "        return decoded"
   ]
  },
  {
   "cell_type": "code",
   "execution_count": 9,
   "metadata": {},
   "outputs": [],
   "source": [
    "def train(model,device,optimizer,epoch,trainloader,criterion):\n",
    "    model.train()\n",
    "    epoch_loss = 0\n",
    "    for index,(images,labels) in enumerate(trainloader):\n",
    "        images, labels = images.to(device), labels.to(device)\n",
    "        optimizer.zero_grad()\n",
    "        output = model(images)\n",
    "        loss = criterion(output,images)\n",
    "        loss.backward()\n",
    "        epoch_loss += loss.item()\n",
    "        optimizer.step()\n",
    "        #if index % 10 == 0:\n",
    "            #print('Train Epoch: {} [{}/{} ({:.0f}%)]\\tLoss: {:.6f}'.format(\n",
    "                #epoch, index * len(images), len(trainloader.dataset),\n",
    "                #100. * index / len(trainloader), loss.item()))\n",
    "    epoch_loss /= len(trainloader)\n",
    "    print(\"Average training loss:\",epoch_loss)\n",
    "    return epoch_loss\n",
    "    \n",
    "def test(model,device,testloader,criterion):\n",
    "    model.eval()\n",
    "    epoch_loss = 0\n",
    "    correct = 0\n",
    "    with torch.no_grad():\n",
    "        for images, labels in testloader:\n",
    "            images, labels = images.to(device), labels.to(device)\n",
    "            output = model(images)\n",
    "            loss = criterion(output,images)\n",
    "            epoch_loss += loss.item()\n",
    "    epoch_loss /= len(testloader)\n",
    "    print('Average validation loss: {:.4f}'.format(epoch_loss))\n",
    "    return epoch_loss\n",
    "\n"
   ]
  },
  {
   "cell_type": "code",
   "execution_count": 10,
   "metadata": {},
   "outputs": [
    {
     "name": "stdout",
     "output_type": "stream",
     "text": [
      "Average training loss: 0.0031912503452738747\n",
      "Average validation loss: 0.0004\n",
      "Average training loss: 0.0005172801840933972\n",
      "Average validation loss: 0.0003\n"
     ]
    },
    {
     "ename": "KeyboardInterrupt",
     "evalue": "",
     "output_type": "error",
     "traceback": [
      "\u001b[1;31m---------------------------------------------------------------------------\u001b[0m",
      "\u001b[1;31mKeyboardInterrupt\u001b[0m                         Traceback (most recent call last)",
      "\u001b[1;32m<ipython-input-10-464cbe320a9b>\u001b[0m in \u001b[0;36m<module>\u001b[1;34m\u001b[0m\n\u001b[0;32m      5\u001b[0m \u001b[0mval_losses\u001b[0m \u001b[1;33m=\u001b[0m \u001b[1;33m[\u001b[0m\u001b[1;33m]\u001b[0m\u001b[1;33m\u001b[0m\u001b[1;33m\u001b[0m\u001b[0m\n\u001b[0;32m      6\u001b[0m \u001b[1;32mfor\u001b[0m \u001b[0mepoch\u001b[0m \u001b[1;32min\u001b[0m \u001b[0mrange\u001b[0m\u001b[1;33m(\u001b[0m\u001b[0mepochs\u001b[0m\u001b[1;33m)\u001b[0m\u001b[1;33m:\u001b[0m\u001b[1;33m\u001b[0m\u001b[1;33m\u001b[0m\u001b[0m\n\u001b[1;32m----> 7\u001b[1;33m     \u001b[0mtrain_loss\u001b[0m \u001b[1;33m=\u001b[0m \u001b[0mtrain\u001b[0m\u001b[1;33m(\u001b[0m\u001b[0mmodel\u001b[0m\u001b[1;33m,\u001b[0m\u001b[0mdevice\u001b[0m\u001b[1;33m,\u001b[0m\u001b[0moptimizer\u001b[0m\u001b[1;33m,\u001b[0m\u001b[0mepoch\u001b[0m\u001b[1;33m,\u001b[0m\u001b[0mtrainloader\u001b[0m\u001b[1;33m,\u001b[0m\u001b[0mcriterion\u001b[0m\u001b[1;33m)\u001b[0m\u001b[1;33m\u001b[0m\u001b[1;33m\u001b[0m\u001b[0m\n\u001b[0m\u001b[0;32m      8\u001b[0m     \u001b[0mval_loss\u001b[0m \u001b[1;33m=\u001b[0m \u001b[0mtest\u001b[0m\u001b[1;33m(\u001b[0m\u001b[0mmodel\u001b[0m\u001b[1;33m,\u001b[0m\u001b[0mdevice\u001b[0m\u001b[1;33m,\u001b[0m\u001b[0mvalloader\u001b[0m\u001b[1;33m,\u001b[0m\u001b[0mcriterion\u001b[0m\u001b[1;33m)\u001b[0m\u001b[1;33m\u001b[0m\u001b[1;33m\u001b[0m\u001b[0m\n\u001b[0;32m      9\u001b[0m     \u001b[0mtraining_losses\u001b[0m\u001b[1;33m.\u001b[0m\u001b[0mappend\u001b[0m\u001b[1;33m(\u001b[0m\u001b[0mtrain_loss\u001b[0m\u001b[1;33m)\u001b[0m\u001b[1;33m\u001b[0m\u001b[1;33m\u001b[0m\u001b[0m\n",
      "\u001b[1;32m<ipython-input-9-caf843df200d>\u001b[0m in \u001b[0;36mtrain\u001b[1;34m(model, device, optimizer, epoch, trainloader, criterion)\u001b[0m\n\u001b[0;32m      9\u001b[0m         \u001b[0mloss\u001b[0m\u001b[1;33m.\u001b[0m\u001b[0mbackward\u001b[0m\u001b[1;33m(\u001b[0m\u001b[1;33m)\u001b[0m\u001b[1;33m\u001b[0m\u001b[1;33m\u001b[0m\u001b[0m\n\u001b[0;32m     10\u001b[0m         \u001b[0mepoch_loss\u001b[0m \u001b[1;33m+=\u001b[0m \u001b[0mloss\u001b[0m\u001b[1;33m.\u001b[0m\u001b[0mitem\u001b[0m\u001b[1;33m(\u001b[0m\u001b[1;33m)\u001b[0m\u001b[1;33m\u001b[0m\u001b[1;33m\u001b[0m\u001b[0m\n\u001b[1;32m---> 11\u001b[1;33m         \u001b[0moptimizer\u001b[0m\u001b[1;33m.\u001b[0m\u001b[0mstep\u001b[0m\u001b[1;33m(\u001b[0m\u001b[1;33m)\u001b[0m\u001b[1;33m\u001b[0m\u001b[1;33m\u001b[0m\u001b[0m\n\u001b[0m\u001b[0;32m     12\u001b[0m         \u001b[1;31m#if index % 10 == 0:\u001b[0m\u001b[1;33m\u001b[0m\u001b[1;33m\u001b[0m\u001b[1;33m\u001b[0m\u001b[0m\n\u001b[0;32m     13\u001b[0m             \u001b[1;31m#print('Train Epoch: {} [{}/{} ({:.0f}%)]\\tLoss: {:.6f}'.format(\u001b[0m\u001b[1;33m\u001b[0m\u001b[1;33m\u001b[0m\u001b[1;33m\u001b[0m\u001b[0m\n",
      "\u001b[1;32m~\\Anaconda3\\lib\\site-packages\\torch\\optim\\adam.py\u001b[0m in \u001b[0;36mstep\u001b[1;34m(self, closure)\u001b[0m\n\u001b[0;32m    105\u001b[0m                 \u001b[0mstep_size\u001b[0m \u001b[1;33m=\u001b[0m \u001b[0mgroup\u001b[0m\u001b[1;33m[\u001b[0m\u001b[1;34m'lr'\u001b[0m\u001b[1;33m]\u001b[0m \u001b[1;33m*\u001b[0m \u001b[0mmath\u001b[0m\u001b[1;33m.\u001b[0m\u001b[0msqrt\u001b[0m\u001b[1;33m(\u001b[0m\u001b[0mbias_correction2\u001b[0m\u001b[1;33m)\u001b[0m \u001b[1;33m/\u001b[0m \u001b[0mbias_correction1\u001b[0m\u001b[1;33m\u001b[0m\u001b[1;33m\u001b[0m\u001b[0m\n\u001b[0;32m    106\u001b[0m \u001b[1;33m\u001b[0m\u001b[0m\n\u001b[1;32m--> 107\u001b[1;33m                 \u001b[0mp\u001b[0m\u001b[1;33m.\u001b[0m\u001b[0mdata\u001b[0m\u001b[1;33m.\u001b[0m\u001b[0maddcdiv_\u001b[0m\u001b[1;33m(\u001b[0m\u001b[1;33m-\u001b[0m\u001b[0mstep_size\u001b[0m\u001b[1;33m,\u001b[0m \u001b[0mexp_avg\u001b[0m\u001b[1;33m,\u001b[0m \u001b[0mdenom\u001b[0m\u001b[1;33m)\u001b[0m\u001b[1;33m\u001b[0m\u001b[1;33m\u001b[0m\u001b[0m\n\u001b[0m\u001b[0;32m    108\u001b[0m \u001b[1;33m\u001b[0m\u001b[0m\n\u001b[0;32m    109\u001b[0m         \u001b[1;32mreturn\u001b[0m \u001b[0mloss\u001b[0m\u001b[1;33m\u001b[0m\u001b[1;33m\u001b[0m\u001b[0m\n",
      "\u001b[1;31mKeyboardInterrupt\u001b[0m: "
     ]
    }
   ],
   "source": [
    "model = AutoEncoder().to(device)\n",
    "optimizer = optim.Adam(model.parameters(), lr=0.01)\n",
    "criterion = nn.MSELoss()\n",
    "training_losses = []\n",
    "val_losses = []\n",
    "for epoch in range(epochs):\n",
    "    train_loss = train(model,device,optimizer,epoch,trainloader,criterion)\n",
    "    val_loss = test(model,device,valloader,criterion)\n",
    "    training_losses.append(train_loss)\n",
    "    val_losses.append(val_loss)\n",
    "print(\"Final performance\")\n",
    "plot_graph(training_losses,val_losses,epochs)\n",
    "test(model,device,testloader,criterion)\n"
   ]
  },
  {
   "cell_type": "code",
   "execution_count": null,
   "metadata": {},
   "outputs": [],
   "source": [
    "test_images, labels = next(iter(valloader))\n",
    "test_images = test_images.cuda()\n",
    "test_output = model(test_images)\n",
    "\n",
    "for i in range(len(test_images)):\n",
    "    fig = plt.figure()\n",
    "    plot = fig.add_subplot(1, 2, 1)\n",
    "    plot.set_title('Original Image')\n",
    "    image_input = np.transpose(test_images[i].cpu(),(1,2,0))\n",
    "    image_output = np.transpose(test_output[i].cpu().detach(),(1,2,0))\n",
    "    imgplot = plt.imshow(image_input)\n",
    "    plot = fig.add_subplot(1, 2, 2)\n",
    "    plot.set_title('Generated Image')\n",
    "    imgplot = plt.imshow(image_output)\n",
    "    plt.show()"
   ]
  },
  {
   "cell_type": "code",
   "execution_count": null,
   "metadata": {},
   "outputs": [],
   "source": [
    "class Mixed(nn.Module):\n",
    "    def __init__(self):\n",
    "        super(Mixed, self).__init__()\n",
    "        self.encoder = nn.Sequential(\n",
    "            # 3 input channels(RGB), 12 output channels, 3x3 square convolution\n",
    "            nn.Conv2d(in_channels = 3, out_channels = 12, kernel_size = 3, stride=1, padding=1), # Output size : [batch_size, 12, 32, 32]\n",
    "            nn.ReLU(),\n",
    "            nn.Conv2d(in_channels = 12, out_channels = 24, kernel_size = 3, stride=1, padding=1), # Output size : [batch_size, 24, 32, 32]\n",
    "            nn.ReLU(),\n",
    "            nn.Conv2d(in_channels = 24, out_channels = 48, kernel_size = 3, stride=2, padding=1), # Output size : [batch_size, 48, 16, 16]\n",
    "            #nn.ReLU(),\n",
    "        )\n",
    "        self.decoder = nn.Sequential(\n",
    "            # For Upscaling :\n",
    "            # 2x2 kernels can only learn nearest pixel upscaling.\n",
    "            # 3x3 kernels can do bilinear but will require asymmetric padding.\n",
    "            # But 4x4 can do bilinear again without asymmetrical padding.\n",
    "            nn.ConvTranspose2d(48, 24, 4, stride=2, padding=1), # Output size: [batch_size, 24, 32, 32]\n",
    "            nn.ReLU(),\n",
    "            nn.ConvTranspose2d(24, 12, 3, stride=1, padding=1), # Output size: [batch_size, 12, 32, 32]\n",
    "            nn.ReLU(),\n",
    "            nn.ConvTranspose2d(12, 3, 3, stride=1, padding=1), # Output size: [batch_size, 3, 32, 32]\n",
    "            nn.Sigmoid()\n",
    "        )\n",
    "        self.classifier = nn.Sequential(\n",
    "            nn.Linear(12288,1200),\n",
    "            nn.ReLU(),\n",
    "            nn.Linear(1200,500),\n",
    "            nn.ReLU(),\n",
    "            nn.Linear(500,10),\n",
    "            nn.LogSoftmax()\n",
    "        )\n",
    "        \n",
    "    def forward(self, x):\n",
    "        encoded = self.encoder(x)\n",
    "        decoded = self.decoder(encoded)\n",
    "        encoded = encoded.view(encoded.size(0),-1)\n",
    "        predicted = self.classifier(encoded)\n",
    "        return decoded, predicted"
   ]
  },
  {
   "cell_type": "code",
   "execution_count": null,
   "metadata": {},
   "outputs": [],
   "source": [
    "def train(model,device,optimizer,epoch,trainloader):\n",
    "    model.train()\n",
    "    epoch_loss = 0\n",
    "    for index,(images,labels) in enumerate(trainloader):\n",
    "        images, labels = images.to(device), labels.to(device)\n",
    "        optimizer.zero_grad()\n",
    "        decoded,predicted = model(images)\n",
    "        criterion1 = nn.MSELoss()\n",
    "        criterion2 = nn.CrossEntropyLoss()\n",
    "        loss1 = criterion1(decoded,images)\n",
    "        loss2 = criterion2(predicted,labels)\n",
    "        loss = loss1+loss2\n",
    "        loss.backward()\n",
    "        epoch_loss += loss.item()\n",
    "        optimizer.step()\n",
    "        #if index % 10 == 0:\n",
    "            #print('Train Epoch: {} [{}/{} ({:.0f}%)]\\tLoss: {:.6f}'.format(\n",
    "                #epoch, index * len(images), len(trainloader.dataset),\n",
    "                #100. * index / len(trainloader), loss.item()))\n",
    "    epoch_loss /= len(trainloader)\n",
    "    print(\"Average training loss:\",epoch_loss)\n",
    "    return epoch_loss\n",
    "    \n",
    "def test(model,device,testloader):\n",
    "    model.eval()\n",
    "    epoch_loss = 0\n",
    "    correct = 0\n",
    "    with torch.no_grad():\n",
    "        for images, labels in testloader:\n",
    "            images, labels = images.to(device), labels.to(device)\n",
    "            decoded, predicted = model(images)\n",
    "            criterion1 = nn.MSELoss()\n",
    "            criterion2 = nn.CrossEntropyLoss()\n",
    "            loss1 = criterion1(decoded,images)\n",
    "            loss2 = criterion2(predicted,labels)\n",
    "            loss = loss1+loss2\n",
    "            epoch_loss += loss.item()\n",
    "            pred = predicted.max(1, keepdim=True)[1] # get the index of the max log-probability\n",
    "            correct += pred.eq(labels.view_as(pred)).sum().item()\n",
    "    epoch_loss /= len(testloader)\n",
    "    print('Average loss: {:.4f}, Accuracy: {}/{} ({:.0f}%)'.format(\n",
    "        epoch_loss, correct, len(testloader.dataset),\n",
    "        100. * correct / len(testloader.dataset)))\n",
    "    return epoch_loss"
   ]
  },
  {
   "cell_type": "code",
   "execution_count": null,
   "metadata": {},
   "outputs": [],
   "source": [
    "model = Mixed().to(device)\n",
    "optimizer = optim.SGD(model.parameters(), lr=0.01, momentum=0.9)\n",
    "#optimizer = optim.Adam(model.parameters(), lr=0.01)\n",
    "training_losses = []\n",
    "val_losses = []\n",
    "for epoch in range(epochs):\n",
    "    train_loss = train(model,device,optimizer,epoch,trainloader)\n",
    "    val_loss = test(model,device,valloader)\n",
    "    training_losses.append(train_loss)\n",
    "    val_losses.append(val_loss)\n",
    "print(\"Final performance\")\n",
    "plot_graph(training_losses,val_losses,epochs)\n",
    "test(model,device,testloader)"
   ]
  },
  {
   "cell_type": "code",
   "execution_count": null,
   "metadata": {},
   "outputs": [],
   "source": [
    "test_images, labels = next(iter(valloader))\n",
    "test_images = test_images.cuda()\n",
    "test_output, predicted = model(test_images)\n",
    "print(test_images.shape)\n",
    "print(test_output.shape)\n",
    "for i in range(len(test_images)):\n",
    "    fig = plt.figure()\n",
    "    plot = fig.add_subplot(1, 2, 1)\n",
    "    plot.set_title('Original Image ' + str(classes[labels[i]]))\n",
    "    image_input = np.transpose(test_images[i].cpu(),(1,2,0))\n",
    "    image_output = np.transpose(test_output[i].cpu().detach(),(1,2,0))\n",
    "    imgplot = plt.imshow(image_input)\n",
    "    plot = fig.add_subplot(1, 2, 2)\n",
    "    plot.set_title('Generated Image ' + str(classes[labels[i]]))\n",
    "    imgplot = plt.imshow(image_output)\n",
    "    plt.show()"
   ]
  },
  {
   "cell_type": "code",
   "execution_count": null,
   "metadata": {},
   "outputs": [],
   "source": []
  }
 ],
 "metadata": {
  "kernelspec": {
   "display_name": "Python 3",
   "language": "python",
   "name": "python3"
  },
  "language_info": {
   "codemirror_mode": {
    "name": "ipython",
    "version": 3
   },
   "file_extension": ".py",
   "mimetype": "text/x-python",
   "name": "python",
   "nbconvert_exporter": "python",
   "pygments_lexer": "ipython3",
   "version": "3.7.3"
  }
 },
 "nbformat": 4,
 "nbformat_minor": 2
}
